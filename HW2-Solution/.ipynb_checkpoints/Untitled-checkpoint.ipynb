{
 "cells": [
  {
   "cell_type": "code",
   "execution_count": 32,
   "metadata": {
    "scrolled": true
   },
   "outputs": [
    {
     "name": "stdout",
     "output_type": "stream",
     "text": [
      "[[0.4068415  0.85981692 1.32393235 ... 0.90521912 0.55049532 0.27308737]\n",
      " [0.71944274 1.50140679 2.32779142 ... 1.55541197 1.00958272 0.54606679]\n",
      " [0.99941225 2.02682718 3.12610835 ... 3.0101233  1.99541306 1.05813514]\n",
      " ...\n",
      " [0.76883131 1.33939035 2.01010434 ... 0.98766175 0.69141316 0.53579707]\n",
      " [0.50267862 0.86923295 1.28715423 ... 0.64921666 0.44532603 0.35155287]\n",
      " [0.22312227 0.3716221  0.53092471 ... 0.32645901 0.22136657 0.17903538]]\n"
     ]
    }
   ],
   "source": [
    "import numpy as np\n",
    "from skimage import io\n",
    "from matplotlib import pyplot as plt\n",
    "from scipy import signal\n",
    "\n",
    "img = io.imread('shelf.jpg')\n",
    "image = io.imread('shelf.jpg', as_gray=True)\n",
    "temp = io.imread('template.jpg')\n",
    "kernel = io.imread('template.jpg', as_gray=True)\n",
    "\n",
    "out = np.mean(kernel)\n",
    "print(out)"
   ]
  },
  {
   "cell_type": "code",
   "execution_count": null,
   "metadata": {},
   "outputs": [],
   "source": []
  },
  {
   "cell_type": "code",
   "execution_count": null,
   "metadata": {},
   "outputs": [],
   "source": []
  }
 ],
 "metadata": {
  "kernelspec": {
   "display_name": "Python 3",
   "language": "python",
   "name": "python3"
  },
  "language_info": {
   "codemirror_mode": {
    "name": "ipython",
    "version": 3
   },
   "file_extension": ".py",
   "mimetype": "text/x-python",
   "name": "python",
   "nbconvert_exporter": "python",
   "pygments_lexer": "ipython3",
   "version": "3.8.10"
  }
 },
 "nbformat": 4,
 "nbformat_minor": 4
}
